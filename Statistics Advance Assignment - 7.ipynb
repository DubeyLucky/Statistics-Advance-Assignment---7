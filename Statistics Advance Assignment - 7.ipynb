{
 "cells": [
  {
   "cell_type": "code",
   "execution_count": 1,
   "id": "068ddc25",
   "metadata": {},
   "outputs": [],
   "source": [
    "from scipy.stats import f\n",
    "\n",
    "def calculate_f_value(data1, data2):\n",
    "    \"\"\"\n",
    "    Calculate the F-value for a variance ratio test.\n",
    "\n",
    "    Parameters:\n",
    "    - data1: Array-like, containing the data for the first group.\n",
    "    - data2: Array-like, containing the data for the second group.\n",
    "\n",
    "    Returns:\n",
    "    - f_value: The calculated F-value for the variance ratio test.\n",
    "    - p_value: The corresponding p-value for the test.\n",
    "    \"\"\"\n",
    "    # Calculate the sample variances\n",
    "    var1 = np.var(data1, ddof=1)  # Use ddof=1 for unbiased estimate (N-1)\n",
    "    var2 = np.var(data2, ddof=1)\n",
    "\n",
    "    # Calculate the F-value\n",
    "    f_value = var1 / var2 if var1 >= var2 else var2 / var1\n",
    "\n",
    "    # Calculate the degrees of freedom\n",
    "    df1 = len(data1) - 1\n",
    "    df2 = len(data2) - 1\n",
    "\n",
    "    # Calculate the p-value\n",
    "    p_value = 2 * min(f.cdf(f_value, df1, df2), 1 - f.cdf(f_value, df1, df2))\n",
    "\n",
    "    return f_value, p_value\n"
   ]
  },
  {
   "cell_type": "markdown",
   "id": "a4dcf2b0",
   "metadata": {},
   "source": [
    "Q2. Given a significance level of 0.05 and the degrees of freedom for the numerator and denominator of an\n",
    "F-distribution, write a Python function that returns the critical F-value for a two-tailed test."
   ]
  },
  {
   "cell_type": "code",
   "execution_count": 2,
   "id": "782d14f2",
   "metadata": {},
   "outputs": [],
   "source": [
    "from scipy.stats import f\n",
    "\n",
    "def calculate_critical_f_value(alpha, dfn, dfd):\n",
    "    \"\"\"\n",
    "    Calculate the critical F-value for a two-tailed test.\n",
    "\n",
    "    Parameters:\n",
    "    - alpha: The significance level for the test.\n",
    "    - dfn: Degrees of freedom for the numerator.\n",
    "    - dfd: Degrees of freedom for the denominator.\n",
    "\n",
    "    Returns:\n",
    "    - critical_f_value: The critical F-value for the two-tailed test.\n",
    "    \"\"\"\n",
    "    # Calculate the critical F-value\n",
    "    critical_f_value = f.ppf(1 - alpha / 2, dfn, dfd)\n",
    "\n",
    "    return critical_f_value\n"
   ]
  },
  {
   "cell_type": "markdown",
   "id": "69b80dda",
   "metadata": {},
   "source": [
    "Q3. Write a Python program that generates random samples from two normal distributions with known\n",
    "\n",
    "variances and uses an F-test to determine if the variances are equal. The program should output the F-\n",
    "value, degrees of freedom, and p-value for the test."
   ]
  },
  {
   "cell_type": "code",
   "execution_count": 3,
   "id": "0187ff12",
   "metadata": {},
   "outputs": [
    {
     "name": "stdout",
     "output_type": "stream",
     "text": [
      "F-value: 1.335309226434083\n",
      "Degrees of freedom (numerator): 49\n",
      "Degrees of freedom (denominator): 49\n",
      "p-value: 0.31480865566315486\n"
     ]
    }
   ],
   "source": [
    "import numpy as np\n",
    "from scipy.stats import f\n",
    "\n",
    "def f_test_for_equal_variances(data1, data2):\n",
    "    \"\"\"\n",
    "    Perform an F-test to determine if the variances of two normal distributions are equal.\n",
    "\n",
    "    Parameters:\n",
    "    - data1: Array-like, containing the data for the first group.\n",
    "    - data2: Array-like, containing the data for the second group.\n",
    "\n",
    "    Returns:\n",
    "    - f_value: The calculated F-value for the F-test.\n",
    "    - dfn: Degrees of freedom for the numerator.\n",
    "    - dfd: Degrees of freedom for the denominator.\n",
    "    - p_value: The corresponding p-value for the test.\n",
    "    \"\"\"\n",
    "    # Calculate the sample variances\n",
    "    var1 = np.var(data1, ddof=1)  # Use ddof=1 for unbiased estimate (N-1)\n",
    "    var2 = np.var(data2, ddof=1)\n",
    "\n",
    "    # Determine the larger and smaller variances\n",
    "    if var1 >= var2:\n",
    "        larger_var, smaller_var = var1, var2\n",
    "    else:\n",
    "        larger_var, smaller_var = var2, var1\n",
    "\n",
    "    # Calculate the F-value\n",
    "    f_value = larger_var / smaller_var\n",
    "\n",
    "    # Calculate the degrees of freedom\n",
    "    dfn = len(data1) - 1\n",
    "    dfd = len(data2) - 1\n",
    "\n",
    "    # Calculate the p-value\n",
    "    p_value = 2 * min(f.cdf(f_value, dfn, dfd), 1 - f.cdf(f_value, dfn, dfd))\n",
    "\n",
    "    return f_value, dfn, dfd, p_value\n",
    "\n",
    "# Generate random samples from two normal distributions with known variances\n",
    "np.random.seed(0)  # for reproducibility\n",
    "data1 = np.random.normal(loc=0, scale=1, size=50)  # Example: sample from N(0, 1)\n",
    "data2 = np.random.normal(loc=0, scale=1.5, size=50)  # Example: sample from N(0, 1.5)\n",
    "\n",
    "# Perform F-test for equal variances\n",
    "f_value, dfn, dfd, p_value = f_test_for_equal_variances(data1, data2)\n",
    "\n",
    "# Output the results\n",
    "print(\"F-value:\", f_value)\n",
    "print(\"Degrees of freedom (numerator):\", dfn)\n",
    "print(\"Degrees of freedom (denominator):\", dfd)\n",
    "print(\"p-value:\", p_value)\n"
   ]
  },
  {
   "cell_type": "markdown",
   "id": "485c4fd5",
   "metadata": {},
   "source": [
    "Q4.The variances of two populations are known to be 10 and 15. A sample of 12 observations is taken from\n",
    "each population. Conduct an F-test"
   ]
  },
  {
   "cell_type": "code",
   "execution_count": 4,
   "id": "f9c26f7c",
   "metadata": {},
   "outputs": [
    {
     "name": "stdout",
     "output_type": "stream",
     "text": [
      "F-value: 0.6666666666666666\n",
      "Degrees of freedom (numerator): 11\n",
      "Degrees of freedom (denominator): 11\n",
      "p-value: 0.5123897987357996\n"
     ]
    }
   ],
   "source": [
    "from scipy.stats import f\n",
    "\n",
    "def f_test_for_known_variances(variance1, variance2, n1, n2):\n",
    "    \"\"\"\n",
    "    Perform an F-test for two populations with known variances.\n",
    "\n",
    "    Parameters:\n",
    "    - variance1: Variance of the first population.\n",
    "    - variance2: Variance of the second population.\n",
    "    - n1: Sample size of the first population.\n",
    "    - n2: Sample size of the second population.\n",
    "\n",
    "    Returns:\n",
    "    - f_value: The calculated F-value for the F-test.\n",
    "    - dfn: Degrees of freedom for the numerator.\n",
    "    - dfd: Degrees of freedom for the denominator.\n",
    "    - p_value: The corresponding p-value for the test.\n",
    "    \"\"\"\n",
    "    # Calculate the F-value\n",
    "    f_value = variance1 / variance2\n",
    "\n",
    "    # Calculate the degrees of freedom\n",
    "    dfn = n1 - 1\n",
    "    dfd = n2 - 1\n",
    "\n",
    "    # Calculate the p-value\n",
    "    p_value = 2 * min(f.cdf(f_value, dfn, dfd), 1 - f.cdf(f_value, dfn, dfd))\n",
    "\n",
    "    return f_value, dfn, dfd, p_value\n",
    "\n",
    "# Given data\n",
    "variance1 = 10\n",
    "variance2 = 15\n",
    "n1 = 12\n",
    "n2 = 12\n",
    "\n",
    "# Perform F-test for known variances\n",
    "f_value, dfn, dfd, p_value = f_test_for_known_variances(variance1, variance2, n1, n2)\n",
    "\n",
    "# Output the results\n",
    "print(\"F-value:\", f_value)\n",
    "print(\"Degrees of freedom (numerator):\", dfn)\n",
    "print(\"Degrees of freedom (denominator):\", dfd)\n",
    "print(\"p-value:\", p_value)\n"
   ]
  },
  {
   "cell_type": "markdown",
   "id": "78de65b2",
   "metadata": {},
   "source": [
    "Q5. A manufacturer claims that the variance of the diameter of a certain product is 0.005. A sample of 25\n",
    "products is taken, and the sample variance is found to be 0.006. Conduct an F-test at the 1% significance\n",
    "level to determine if the claim is justified."
   ]
  },
  {
   "cell_type": "code",
   "execution_count": 5,
   "id": "dc88c3dc",
   "metadata": {},
   "outputs": [
    {
     "ename": "SyntaxError",
     "evalue": "invalid syntax (2064856594.py, line 43)",
     "output_type": "error",
     "traceback": [
      "\u001b[1;36m  Cell \u001b[1;32mIn[5], line 43\u001b[1;36m\u001b[0m\n\u001b[1;33m    if\u001b[0m\n\u001b[1;37m       ^\u001b[0m\n\u001b[1;31mSyntaxError\u001b[0m\u001b[1;31m:\u001b[0m invalid syntax\n"
     ]
    }
   ],
   "source": [
    "from scipy.stats import f\n",
    "\n",
    "def f_test(sample_variance, population_variance, sample_size, alpha):\n",
    "    \"\"\"\n",
    "    Perform an F-test to compare a sample variance with a population variance.\n",
    "\n",
    "    Parameters:\n",
    "    - sample_variance: The sample variance.\n",
    "    - population_variance: The population variance.\n",
    "    - sample_size: The sample size.\n",
    "    - alpha: The significance level.\n",
    "\n",
    "    Returns:\n",
    "    - f_value: The calculated F-value for the F-test.\n",
    "    - p_value: The corresponding p-value for the test.\n",
    "    \"\"\"\n",
    "    # Calculate the F-value\n",
    "    f_value = sample_variance / population_variance\n",
    "\n",
    "    # Calculate the degrees of freedom\n",
    "    dfn = sample_size - 1\n",
    "    dfd = 1  # Degrees of freedom for population variance\n",
    "\n",
    "    # Calculate the p-value\n",
    "    p_value = f.cdf(f_value, dfn, dfd)\n",
    "\n",
    "    return f_value, p_value\n",
    "\n",
    "# Given data\n",
    "sample_variance = 0.006\n",
    "population_variance = 0.005\n",
    "sample_size = 25\n",
    "alpha = 0.01\n",
    "\n",
    "# Perform F-test\n",
    "f_value, p_value = f_test(sample_variance, population_variance, sample_size, alpha)\n",
    "\n",
    "# Output the results\n",
    "print(\"F-value:\", f_value)\n",
    "print(\"p-value:\", p_value)\n",
    "\n",
    "# Check if the null hypothesis is rejected\n",
    "if \n"
   ]
  },
  {
   "cell_type": "markdown",
   "id": "ba9cb37e",
   "metadata": {},
   "source": [
    "Q6. Write a Python function that takes in the degrees of freedom for the numerator and denominator of an\n",
    "F-distribution and calculates the mean and variance of the distribution. The function should return the\n",
    "mean and variance as a tuple."
   ]
  },
  {
   "cell_type": "code",
   "execution_count": 6,
   "id": "4486c6b1",
   "metadata": {},
   "outputs": [
    {
     "name": "stdout",
     "output_type": "stream",
     "text": [
      "Mean of F-distribution: 1.25\n",
      "Variance of F-distribution: 1.3541666666666667\n"
     ]
    }
   ],
   "source": [
    "def f_distribution_mean_and_variance(dfn, dfd):\n",
    "    \"\"\"\n",
    "    Calculate the mean and variance of an F-distribution.\n",
    "\n",
    "    Parameters:\n",
    "    - dfn: Degrees of freedom for the numerator.\n",
    "    - dfd: Degrees of freedom for the denominator.\n",
    "\n",
    "    Returns:\n",
    "    - mean: The mean of the F-distribution.\n",
    "    - variance: The variance of the F-distribution.\n",
    "    \"\"\"\n",
    "    # Calculate the mean of the F-distribution\n",
    "    if dfd > 2:\n",
    "        mean = dfd / (dfd - 2)\n",
    "    else:\n",
    "        mean = float('inf')\n",
    "\n",
    "    # Calculate the variance of the F-distribution\n",
    "    if dfd > 4:\n",
    "        variance = (2 * (dfd ** 2) * (dfn + dfd - 2)) / ((dfn * (dfd - 2) ** 2 * (dfd - 4)))\n",
    "    else:\n",
    "        variance = float('inf')\n",
    "\n",
    "    return mean, variance\n",
    "\n",
    "# Example usage\n",
    "dfn = 5\n",
    "dfd = 10\n",
    "\n",
    "mean, variance = f_distribution_mean_and_variance(dfn, dfd)\n",
    "print(\"Mean of F-distribution:\", mean)\n",
    "print(\"Variance of F-distribution:\", variance)\n"
   ]
  },
  {
   "cell_type": "markdown",
   "id": "411998d8",
   "metadata": {},
   "source": [
    "Q9. The following data represent the test scores of two groups of students: Group A: 80, 85, 90, 92, 87, 83;\n",
    "Group B: 75, 78, 82, 79, 81, 84. Conduct an F-test at the 1% significance level to determine if the variances\n",
    "are significantly different."
   ]
  },
  {
   "cell_type": "code",
   "execution_count": 7,
   "id": "24c30b66",
   "metadata": {},
   "outputs": [
    {
     "name": "stdout",
     "output_type": "stream",
     "text": [
      "F-value: 1.9442622950819677\n",
      "Degrees of freedom (numerator): 5\n",
      "Degrees of freedom (denominator): 5\n",
      "p-value: 0.4831043549070688\n",
      "Fail to reject the null hypothesis: The variances are not significantly different.\n"
     ]
    }
   ],
   "source": [
    "from scipy.stats import f\n",
    "\n",
    "def f_test(data1, data2, alpha):\n",
    "    \"\"\"\n",
    "    Perform an F-test to compare the variances of two groups of data.\n",
    "\n",
    "    Parameters:\n",
    "    - data1: Array-like, containing the data for group A.\n",
    "    - data2: Array-like, containing the data for group B.\n",
    "    - alpha: The significance level for the test.\n",
    "\n",
    "    Returns:\n",
    "    - f_value: The calculated F-value for the F-test.\n",
    "    - dfn: Degrees of freedom for the numerator.\n",
    "    - dfd: Degrees of freedom for the denominator.\n",
    "    - p_value: The corresponding p-value for the test.\n",
    "    \"\"\"\n",
    "    # Calculate sample variances\n",
    "    var1 = np.var(data1, ddof=1)\n",
    "    var2 = np.var(data2, ddof=1)\n",
    "\n",
    "    # Calculate the F-value\n",
    "    f_value = var1 / var2 if var1 >= var2 else var2 / var1\n",
    "\n",
    "    # Degrees of freedom\n",
    "    dfn = len(data1) - 1\n",
    "    dfd = len(data2) - 1\n",
    "\n",
    "    # Calculate the p-value\n",
    "    p_value = 2 * min(f.cdf(f_value, dfn, dfd), 1 - f.cdf(f_value, dfn, dfd))\n",
    "\n",
    "    return f_value, dfn, dfd, p_value\n",
    "\n",
    "# Data for Group A and Group B\n",
    "group_a = [80, 85, 90, 92, 87, 83]\n",
    "group_b = [75, 78, 82, 79, 81, 84]\n",
    "\n",
    "# Significance level\n",
    "alpha = 0.01\n",
    "\n",
    "# Perform F-test\n",
    "f_value, dfn, dfd, p_value = f_test(group_a, group_b, alpha)\n",
    "\n",
    "# Output the results\n",
    "print(\"F-value:\", f_value)\n",
    "print(\"Degrees of freedom (numerator):\", dfn)\n",
    "print(\"Degrees of freedom (denominator):\", dfd)\n",
    "print(\"p-value:\", p_value)\n",
    "\n",
    "# Check if the null hypothesis is rejected\n",
    "if p_value < alpha:\n",
    "    print(\"Reject the null hypothesis: The variances are significantly different.\")\n",
    "else:\n",
    "    print(\"Fail to reject the null hypothesis: The variances are not significantly different.\")\n"
   ]
  },
  {
   "cell_type": "code",
   "execution_count": null,
   "id": "076f11d1",
   "metadata": {},
   "outputs": [],
   "source": []
  }
 ],
 "metadata": {
  "kernelspec": {
   "display_name": "Python 3 (ipykernel)",
   "language": "python",
   "name": "python3"
  },
  "language_info": {
   "codemirror_mode": {
    "name": "ipython",
    "version": 3
   },
   "file_extension": ".py",
   "mimetype": "text/x-python",
   "name": "python",
   "nbconvert_exporter": "python",
   "pygments_lexer": "ipython3",
   "version": "3.10.9"
  }
 },
 "nbformat": 4,
 "nbformat_minor": 5
}
